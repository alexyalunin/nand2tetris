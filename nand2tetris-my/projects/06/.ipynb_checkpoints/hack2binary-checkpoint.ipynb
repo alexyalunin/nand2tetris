{
 "cells": [
  {
   "cell_type": "code",
   "execution_count": 1,
   "metadata": {},
   "outputs": [],
   "source": [
    "import os"
   ]
  },
  {
   "cell_type": "code",
   "execution_count": 101,
   "metadata": {},
   "outputs": [],
   "source": [
    "with open('add/Add.asm') as file:\n",
    "    insts = file.read().splitlines()"
   ]
  },
  {
   "cell_type": "code",
   "execution_count": 102,
   "metadata": {},
   "outputs": [
    {
     "ename": "NameError",
     "evalue": "name 'sefl' is not defined",
     "output_type": "error",
     "traceback": [
      "\u001b[0;31m---------------------------------------------------------------------------\u001b[0m",
      "\u001b[0;31mNameError\u001b[0m                                 Traceback (most recent call last)",
      "\u001b[0;32m<ipython-input-102-623a594326f0>\u001b[0m in \u001b[0;36m<module>\u001b[0;34m\u001b[0m\n\u001b[1;32m      2\u001b[0m \u001b[0minsts\u001b[0m \u001b[0;34m=\u001b[0m \u001b[0;34m[\u001b[0m\u001b[0mparser\u001b[0m\u001b[0;34m.\u001b[0m\u001b[0mprepare_inst\u001b[0m\u001b[0;34m(\u001b[0m\u001b[0mx\u001b[0m\u001b[0;34m)\u001b[0m \u001b[0;32mfor\u001b[0m \u001b[0mx\u001b[0m \u001b[0;32min\u001b[0m \u001b[0minsts\u001b[0m\u001b[0;34m]\u001b[0m\u001b[0;34m\u001b[0m\u001b[0;34m\u001b[0m\u001b[0m\n\u001b[1;32m      3\u001b[0m \u001b[0minsts\u001b[0m \u001b[0;34m=\u001b[0m \u001b[0;34m[\u001b[0m\u001b[0mx\u001b[0m \u001b[0;32mfor\u001b[0m \u001b[0mx\u001b[0m \u001b[0;32min\u001b[0m \u001b[0minsts\u001b[0m \u001b[0;32mif\u001b[0m \u001b[0mx\u001b[0m \u001b[0;34m!=\u001b[0m \u001b[0;34m''\u001b[0m\u001b[0;34m]\u001b[0m\u001b[0;34m\u001b[0m\u001b[0;34m\u001b[0m\u001b[0m\n\u001b[0;32m----> 4\u001b[0;31m \u001b[0minsts\u001b[0m \u001b[0;34m=\u001b[0m \u001b[0;34m[\u001b[0m\u001b[0mparser\u001b[0m\u001b[0;34m.\u001b[0m\u001b[0mconv_inst\u001b[0m\u001b[0;34m(\u001b[0m\u001b[0mx\u001b[0m\u001b[0;34m)\u001b[0m \u001b[0;32mfor\u001b[0m \u001b[0mx\u001b[0m \u001b[0;32min\u001b[0m \u001b[0minsts\u001b[0m\u001b[0;34m]\u001b[0m\u001b[0;34m\u001b[0m\u001b[0;34m\u001b[0m\u001b[0m\n\u001b[0m\u001b[1;32m      5\u001b[0m \u001b[0minst\u001b[0m\u001b[0;34m\u001b[0m\u001b[0;34m\u001b[0m\u001b[0m\n",
      "\u001b[0;32m<ipython-input-102-623a594326f0>\u001b[0m in \u001b[0;36m<listcomp>\u001b[0;34m(.0)\u001b[0m\n\u001b[1;32m      2\u001b[0m \u001b[0minsts\u001b[0m \u001b[0;34m=\u001b[0m \u001b[0;34m[\u001b[0m\u001b[0mparser\u001b[0m\u001b[0;34m.\u001b[0m\u001b[0mprepare_inst\u001b[0m\u001b[0;34m(\u001b[0m\u001b[0mx\u001b[0m\u001b[0;34m)\u001b[0m \u001b[0;32mfor\u001b[0m \u001b[0mx\u001b[0m \u001b[0;32min\u001b[0m \u001b[0minsts\u001b[0m\u001b[0;34m]\u001b[0m\u001b[0;34m\u001b[0m\u001b[0;34m\u001b[0m\u001b[0m\n\u001b[1;32m      3\u001b[0m \u001b[0minsts\u001b[0m \u001b[0;34m=\u001b[0m \u001b[0;34m[\u001b[0m\u001b[0mx\u001b[0m \u001b[0;32mfor\u001b[0m \u001b[0mx\u001b[0m \u001b[0;32min\u001b[0m \u001b[0minsts\u001b[0m \u001b[0;32mif\u001b[0m \u001b[0mx\u001b[0m \u001b[0;34m!=\u001b[0m \u001b[0;34m''\u001b[0m\u001b[0;34m]\u001b[0m\u001b[0;34m\u001b[0m\u001b[0;34m\u001b[0m\u001b[0m\n\u001b[0;32m----> 4\u001b[0;31m \u001b[0minsts\u001b[0m \u001b[0;34m=\u001b[0m \u001b[0;34m[\u001b[0m\u001b[0mparser\u001b[0m\u001b[0;34m.\u001b[0m\u001b[0mconv_inst\u001b[0m\u001b[0;34m(\u001b[0m\u001b[0mx\u001b[0m\u001b[0;34m)\u001b[0m \u001b[0;32mfor\u001b[0m \u001b[0mx\u001b[0m \u001b[0;32min\u001b[0m \u001b[0minsts\u001b[0m\u001b[0;34m]\u001b[0m\u001b[0;34m\u001b[0m\u001b[0;34m\u001b[0m\u001b[0m\n\u001b[0m\u001b[1;32m      5\u001b[0m \u001b[0minst\u001b[0m\u001b[0;34m\u001b[0m\u001b[0;34m\u001b[0m\u001b[0m\n",
      "\u001b[0;32m<ipython-input-100-a238601af213>\u001b[0m in \u001b[0;36mconv_inst\u001b[0;34m(self, inst)\u001b[0m\n\u001b[1;32m     53\u001b[0m         \"\"\"\n\u001b[1;32m     54\u001b[0m         \u001b[0;32mif\u001b[0m \u001b[0minst\u001b[0m\u001b[0;34m[\u001b[0m\u001b[0;36m0\u001b[0m\u001b[0;34m]\u001b[0m \u001b[0;34m==\u001b[0m \u001b[0;34m'@'\u001b[0m\u001b[0;34m:\u001b[0m\u001b[0;34m\u001b[0m\u001b[0;34m\u001b[0m\u001b[0m\n\u001b[0;32m---> 55\u001b[0;31m             \u001b[0mbin_inst\u001b[0m \u001b[0;34m=\u001b[0m \u001b[0msefl\u001b[0m\u001b[0;34m.\u001b[0m\u001b[0mconv_A_inst\u001b[0m\u001b[0;34m(\u001b[0m\u001b[0minst\u001b[0m\u001b[0;34m)\u001b[0m\u001b[0;34m\u001b[0m\u001b[0;34m\u001b[0m\u001b[0m\n\u001b[0m\u001b[1;32m     56\u001b[0m         \u001b[0;32melse\u001b[0m\u001b[0;34m:\u001b[0m\u001b[0;34m\u001b[0m\u001b[0;34m\u001b[0m\u001b[0m\n\u001b[1;32m     57\u001b[0m             \u001b[0mbin_inst\u001b[0m \u001b[0;34m=\u001b[0m \u001b[0msefl\u001b[0m\u001b[0;34m.\u001b[0m\u001b[0mconv_C_inst\u001b[0m\u001b[0;34m(\u001b[0m\u001b[0minst\u001b[0m\u001b[0;34m)\u001b[0m\u001b[0;34m\u001b[0m\u001b[0;34m\u001b[0m\u001b[0m\n",
      "\u001b[0;31mNameError\u001b[0m: name 'sefl' is not defined"
     ]
    }
   ],
   "source": [
    "parser = Parser()\n",
    "insts = [parser.prepare_inst(x) for x in insts]\n",
    "insts = [x for x in insts if x != '']\n",
    "insts = [parser.conv_inst(x) for x in insts]\n",
    "inst"
   ]
  },
  {
   "cell_type": "code",
   "execution_count": null,
   "metadata": {},
   "outputs": [],
   "source": [
    "parser.parse_c_inst('D = D + 1 ; JMP // it is ok func')"
   ]
  },
  {
   "cell_type": "code",
   "execution_count": 8,
   "metadata": {},
   "outputs": [],
   "source": [
    "with open('mult/mult.hack') as file:\n",
    "    a = file.read().splitlines()"
   ]
  },
  {
   "cell_type": "code",
   "execution_count": 100,
   "metadata": {},
   "outputs": [],
   "source": [
    "class Code:\n",
    "    jump_codes = {'': '000', \n",
    "                  'JGT': '001', \n",
    "                  'JEQ': '010', \n",
    "                  'JGE': '011', \n",
    "                  'JLT': '100', \n",
    "                  'JNE': '101', \n",
    "                  'JLE': '110', \n",
    "                  'JMP': '111'}\n",
    "    dest_codes = {'':'000', \n",
    "                  'M':'001', \n",
    "                  'D':'010', \n",
    "                  'MD':'011', \n",
    "                  'A':'100', \n",
    "                  'AM':'101', \n",
    "                  'AD':'110', \n",
    "                  'AMD':'111'}\n",
    "    comp_codes = {'0':'0101010',  '1':'0111111',  '-1':'0111010', 'D':'0001100', \n",
    "                'A':'0110000',  '!D':'0001101', '!A':'0110001', '-D':'0001111', \n",
    "                '-A':'0110011', 'D+1':'0011111','A+1':'0110111','D-1':'0001110', \n",
    "                'A-1':'0110010','D+A':'0000010','D-A':'0010011','A-D':'0000111', \n",
    "                'D&A':'0000000','D|A':'0010101',\n",
    "                '':'xxxxxxx',   '':'xxxxxxx',   '':'xxxxxxx',   '':'xxxxxxx', \n",
    "                'M':'1110000',  '':'xxxxxxx',   '!M':'1110001', '':'xxxxxxx', \n",
    "                '-M':'1110011', '':'xxxxxxx',   'M+1':'1110111','':'xxxxxxx', \n",
    "                'M-1':'1110010','D+M':'1000010','D-M':'1010011','M-D':'1000111', \n",
    "                'D&M':'1000000', 'D|M':'1010101' }\n",
    "    \n",
    "    @classmethod\n",
    "    def conv_dest(cls, field):\n",
    "        return cls.comp_codes[field]\n",
    "    \n",
    "    @classmethod\n",
    "    def conv_comp(cls, field):\n",
    "        return cls.comp_codes[field]\n",
    "    \n",
    "    @classmethod\n",
    "    def conv_jump(cls, field):\n",
    "        return cls.comp_codes[field]\n",
    "\n",
    "\n",
    "class Parser:\n",
    "    def prepare_inst(self, inst):\n",
    "        inst = inst.replace(\" \", \"\")\n",
    "        if '//' in inst:\n",
    "            inst = inst.split('//')[0]\n",
    "        return inst\n",
    "    \n",
    "    def conv_inst(self, inst):\n",
    "        \"\"\"\n",
    "            MD=D+1 -> 1110011111011000\n",
    "            @43 -> 0000000000101011\n",
    "        \"\"\"\n",
    "        if inst[0] == '@':\n",
    "            bin_inst = self.conv_A_inst(inst)\n",
    "        else:\n",
    "            bin_inst = self.conv_C_inst(inst)\n",
    "        assert len(bin_inst) == 16\n",
    "        return bin_inst\n",
    "            \n",
    "    def conv_a_inst(self, inst):\n",
    "        # \"@43 -> 0000000000101011\"\n",
    "        return '0' + '{:015b}'.format(int(inst[1:]) % 32768)\n",
    "    \n",
    "    def parse_c_inst(self, inst):\n",
    "        # D = D + 1 ; JMP // it is ok func\n",
    "        # D = D + 1 // it is ok func\n",
    "        # D + 1 ; JMP // it is ok func\n",
    "        if ';' in inst:\n",
    "            inst, jump = inst.split(';')\n",
    "        else:\n",
    "            jump = ''\n",
    "        if '=' in inst:\n",
    "            dest, comp = inst.split('=')\n",
    "        else:\n",
    "            dest = ''\n",
    "            comp = inst\n",
    "        return dest, comp, jump\n",
    "    \n",
    "    \n",
    "    def conv_c_inst(self, inst):\n",
    "        # MD=D+1 -> 1110011111011000\n",
    "        # D=D+1;JMP -> 1110011111010111\n",
    "        # D = D + 1 ; JMP // it is ok func\n",
    "        # D = D + 1 // it is ok func\n",
    "        # D + 1 ; JMP // it is ok func\n",
    "        dest, comp, jump = self.parse_c_inst(inst)\n",
    "        return '111' + Code.conv_comp(comp) + Code.conv_comp(dest) + Code.conv_comp(jump)"
   ]
  },
  {
   "cell_type": "code",
   "execution_count": 98,
   "metadata": {},
   "outputs": [
    {
     "data": {
      "text/plain": [
       "'0011111'"
      ]
     },
     "execution_count": 98,
     "metadata": {},
     "output_type": "execute_result"
    }
   ],
   "source": [
    "Code.conv_dest('D+1')"
   ]
  },
  {
   "cell_type": "code",
   "execution_count": null,
   "metadata": {},
   "outputs": [],
   "source": []
  },
  {
   "cell_type": "code",
   "execution_count": null,
   "metadata": {},
   "outputs": [],
   "source": []
  }
 ],
 "metadata": {
  "kernelspec": {
   "display_name": "venv3.9",
   "language": "python",
   "name": "venv3.9"
  },
  "language_info": {
   "codemirror_mode": {
    "name": "ipython",
    "version": 3
   },
   "file_extension": ".py",
   "mimetype": "text/x-python",
   "name": "python",
   "nbconvert_exporter": "python",
   "pygments_lexer": "ipython3",
   "version": "3.9.0"
  }
 },
 "nbformat": 4,
 "nbformat_minor": 4
}
