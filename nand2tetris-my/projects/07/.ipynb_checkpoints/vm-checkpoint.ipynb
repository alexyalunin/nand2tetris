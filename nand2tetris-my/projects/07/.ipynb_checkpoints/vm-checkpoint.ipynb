{
 "cells": [
  {
   "cell_type": "markdown",
   "metadata": {},
   "source": [
    "# Constant"
   ]
  },
  {
   "cell_type": "code",
   "execution_count": null,
   "metadata": {},
   "outputs": [],
   "source": [
    "# push constant 10 - add to stack constant 10\n",
    "\n",
    "# *SP=i\n",
    "@i\n",
    "D=A\n",
    "@SP\n",
    "A=M\n",
    "M=D\n",
    "# SP++\n",
    "@SP\n",
    "M=M+1"
   ]
  },
  {
   "cell_type": "markdown",
   "metadata": {},
   "source": [
    "# Local, arg, this, that"
   ]
  },
  {
   "cell_type": "markdown",
   "metadata": {},
   "source": [
    "push"
   ]
  },
  {
   "cell_type": "code",
   "execution_count": null,
   "metadata": {},
   "outputs": [],
   "source": [
    "# push argument 1 - add to stack what contains at argument 1\n",
    "addr=ARG+i # get address of argument 1\n",
    "*SP=*addr # what contains at addr put to where SP points\n",
    "SP++ \n",
    "\n",
    "# addr=ARG+i\n",
    "@1\n",
    "D=A\n",
    "@ARG / @LCL / @THIS / @THAT\n",
    "D=D+M\n",
    "\n",
    "# *SP=*addr\n",
    "A=D\n",
    "D=M # content of argument 1\n",
    "@SP\n",
    "A=M\n",
    "M=D\n",
    "\n",
    "# SP++ \n",
    "@SP\n",
    "M=M+1"
   ]
  },
  {
   "cell_type": "markdown",
   "metadata": {},
   "source": [
    "pop"
   ]
  },
  {
   "cell_type": "code",
   "execution_count": null,
   "metadata": {},
   "outputs": [],
   "source": [
    "# pop argument 1 - assign to argument 1 what is in stack top\n",
    "addr=ARG+i # get address of argument 1\n",
    "SP--\n",
    "*addr=*SP\n",
    "\n",
    "\n",
    "# addr=ARG+i\n",
    "@1\n",
    "D=A\n",
    "@ARG / @LCL / @THIS / @THAT\n",
    "D=D+M\n",
    "@R13\n",
    "M=D # RAM[13] = addr\n",
    "\n",
    "# SP--\n",
    "@SP\n",
    "M=M-1\n",
    "\n",
    "# *addr=*SP\n",
    "@SP\n",
    "A=M\n",
    "D=M # D = *SP\n",
    "@R13\n",
    "A=M # A = addr\n",
    "M=D # *addr = *SP\n"
   ]
  },
  {
   "cell_type": "markdown",
   "metadata": {},
   "source": [
    "# Static"
   ]
  },
  {
   "cell_type": "code",
   "execution_count": null,
   "metadata": {},
   "outputs": [],
   "source": [
    "# pop static 8\n",
    "@SP\n",
    "M=M-1\n",
    "@SP\n",
    "A=M\n",
    "D=M\n",
    "@StaticTest.8\n",
    "M=D"
   ]
  },
  {
   "cell_type": "code",
   "execution_count": null,
   "metadata": {},
   "outputs": [],
   "source": [
    "# push static 3\n",
    "@StaticTest.3\n",
    "D=M\n",
    "@SP\n",
    "A=M\n",
    "M=D\n",
    "@SP\n",
    "M=M+1"
   ]
  },
  {
   "cell_type": "markdown",
   "metadata": {},
   "source": [
    "# Parser"
   ]
  },
  {
   "cell_type": "code",
   "execution_count": 50,
   "metadata": {},
   "outputs": [],
   "source": [
    "%reload_ext autoreload\n",
    "%autoreload 2\n",
    "\n",
    "from VMConstants import *\n",
    "from CodeWriter import CodeWriter\n",
    "import glob"
   ]
  },
  {
   "cell_type": "code",
   "execution_count": 104,
   "metadata": {},
   "outputs": [],
   "source": [
    "class Parser(object):\n",
    "    # Command types\n",
    "    _command_type = {'add':C_ARITHMETIC, 'sub':C_ARITHMETIC, 'neg':C_ARITHMETIC,\n",
    "                     'eq' :C_ARITHMETIC, 'gt' :C_ARITHMETIC, 'lt' :C_ARITHMETIC,\n",
    "                     'and':C_ARITHMETIC, 'or' :C_ARITHMETIC, 'not':C_ARITHMETIC,\n",
    "                     'label':C_LABEL,    'goto':C_GOTO,      'if-goto':C_IF, \n",
    "                     'push':C_PUSH,      'pop':C_POP, \n",
    "                     'call':C_CALL,      'return':C_RETURN,  'function':C_FUNCTION}\n",
    "    def __init__(self):\n",
    "        self.cw = CodeWriter('')\n",
    "    \n",
    "    def parse(self, insts):\n",
    "        insts = [x for x in insts if not x.startswith('//')]\n",
    "        insts = [x.split('//')[0] for x in insts]\n",
    "        insts = [x.strip() for x in insts if x]\n",
    "        string = ''\n",
    "        for inst in insts:\n",
    "            cmd = self.command_type(inst)\n",
    "            print(inst)\n",
    "            if cmd == C_ARITHMETIC:\n",
    "                inst_s = self.cw.write_arithmetic(inst)\n",
    "            elif cmd == C_PUSH or cmd == C_POP:\n",
    "                command, seg, index = inst.split(' ')\n",
    "                inst_s = self.cw.write_push_pop(command, seg, index)\n",
    "            \n",
    "            elif cmd == C_LABEL: # label LOOP_START\n",
    "                _, label = inst.split(' ')\n",
    "                inst_s = self.cw.write_label(label)\n",
    "            elif cmd == C_GOTO: # goto LABEL\n",
    "                _, label = inst.split(' ')\n",
    "                inst_s = self.cw.write_goto(label)\n",
    "            elif cmd == C_IF: # if-goto LABEL\n",
    "                _, label = inst.split(' ')\n",
    "                inst_s = self.cw.write_if(label)\n",
    "                    \n",
    "            elif cmd == C_FUNCTION: # function SimpleFunction.test 2\n",
    "                _, func_name, num_arg = inst.split(' ')\n",
    "                inst_s = self.cw.write_function(func_name, num_arg)\n",
    "            elif cmd == C_RETURN: # return\n",
    "                inst_s = self.cw.write_return()\n",
    "                \n",
    "            elif cmd == C_CALL: # call Main.fibonacci 1\n",
    "                _, func_name, num_arg = inst.split(' ')\n",
    "                inst_s = self.cw.write_call(func_name, num_arg)\n",
    "            string += f\"// {inst}\"\n",
    "            string += inst_s\n",
    "        string = string.replace(' ', '')\n",
    "        return string\n",
    "    \n",
    "    def command_type(self, cmd):\n",
    "        cmd = cmd.split(' ')[0]\n",
    "        return self._command_type[cmd]\n",
    "    \n",
    "    \n",
    "        \n",
    "class VMTranslator:\n",
    "    def __init__(self, file_or_dir):\n",
    "        self.infiles, self.outfile, self.file_name = self.get_files(file_or_dir)\n",
    "        print(self.infiles, self.outfile, self.file_name)\n",
    "        self.parser = Parser()\n",
    "        \n",
    "\n",
    "    def get_files(self, file_or_dir):\n",
    "        if file_or_dir.endswith('.vm'):\n",
    "            file_name = file_or_dir.split('/')[-1][:-3]\n",
    "            return [file_or_dir], file_or_dir.replace('.vm', '.asm'), file_name\n",
    "        else:\n",
    "            file_name = file_or_dir.split('/')[-1]\n",
    "            outfile = file_or_dir+'/'+file_name+'.asm'\n",
    "            return glob.glob(file_or_dir+'/*.vm'), outfile, file_name\n",
    "\n",
    "        "
   ]
  },
  {
   "cell_type": "markdown",
   "metadata": {},
   "source": [
    "# Project 8"
   ]
  },
  {
   "cell_type": "code",
   "execution_count": 111,
   "metadata": {},
   "outputs": [],
   "source": [
    "# file_path = '../08/FunctionCalls/FibonacciElement'\n",
    "# file_path = '../08/ProgramFlow/FibonacciSeries/FibonacciSeries.vm'\n",
    "# infiles, outfile, file_name = Parser.get_files(file_path)\n",
    "# infiles, outfile, file_name"
   ]
  },
  {
   "cell_type": "code",
   "execution_count": 115,
   "metadata": {},
   "outputs": [
    {
     "name": "stdout",
     "output_type": "stream",
     "text": [
      "['../08/FunctionCalls/StaticsTest/Class1.vm', '../08/FunctionCalls/StaticsTest/Sys.vm', '../08/FunctionCalls/StaticsTest/Class2.vm'] ../08/FunctionCalls/StaticsTest/StaticsTest.asm StaticsTest\n",
      "init\n",
      "Class1\n",
      "function Class1.set 0\n",
      "push argument 0\n",
      "pop static 0\n",
      "push argument 1\n",
      "pop static 1\n",
      "push constant 0\n",
      "return\n",
      "function Class1.get 0\n",
      "push static 0\n",
      "push static 1\n",
      "sub\n",
      "return\n",
      "Sys\n",
      "function Sys.init 0\n",
      "push constant 6\n",
      "push constant 8\n",
      "call Class1.set 2\n",
      "pop temp 0\n",
      "push constant 23\n",
      "push constant 15\n",
      "call Class2.set 2\n",
      "pop temp 0\n",
      "call Class1.get 0\n",
      "call Class2.get 0\n",
      "label WHILE\n",
      "goto WHILE\n",
      "Class2\n",
      "function Class2.set 0\n",
      "push argument 0\n",
      "pop static 0\n",
      "push argument 1\n",
      "pop static 1\n",
      "push constant 0\n",
      "return\n",
      "function Class2.get 0\n",
      "push static 0\n",
      "push static 1\n",
      "sub\n",
      "return\n"
     ]
    }
   ],
   "source": [
    "# file_path = '../08/ProgramFlow/FibonacciSeries/FibonacciSeries.vm'\n",
    "# file_path = '../08/FunctionCalls/SimpleFunction/SimpleFunction.vm'\n",
    "# file_path = '../08/FunctionCalls/FibonacciElement'\n",
    "# file_path = '../08/FunctionCalls/NestedCall'\n",
    "file_path = '../08/FunctionCalls/StaticsTest'\n",
    "string = ''\n",
    "vm = VMTranslator(file_path)\n",
    "\n",
    "string = vm.parser.cw.write_init()\n",
    "string = string.replace(' ', '') \n",
    "string += '\\n\\n'\n",
    "\n",
    "for file_path in vm.infiles:\n",
    "    file_name = file_path.split('/')[-1][:-3]\n",
    "    with open(file_path) as file:\n",
    "        insts = file.read().splitlines()\n",
    "    vm.parser.cw.file_name = file_name\n",
    "    string += vm.parser.parse(insts)\n",
    "    string += '\\n\\n'\n",
    "\n",
    "with open(vm.outfile, \"w\") as file:\n",
    "    file.write(string)\n"
   ]
  },
  {
   "cell_type": "code",
   "execution_count": null,
   "metadata": {},
   "outputs": [],
   "source": [
    "res = ''\n",
    "file_path = '../08/FunctionCalls/FibonacciElement/Sys.vm'\n",
    "\n",
    "\n",
    "\n",
    "\n",
    "infiles, outfile = get_files( sys.argv[1] )\n",
    "with open(file_path) as file:\n",
    "    insts = file.read().splitlines()\n",
    "parser = Parser(file_path)\n",
    "parser.parse()\n",
    "code = parser.parse(insts)\n",
    "with open(file_path[:-3] + '.asm', \"w\") as outfile:\n",
    "    outfile.write(code)"
   ]
  },
  {
   "cell_type": "code",
   "execution_count": null,
   "metadata": {},
   "outputs": [],
   "source": [
    "files = ['MemoryAccess/BasicTest/BasicTest.vm', \n",
    "         'MemoryAccess/PointerTest/PointerTest.vm', \n",
    "         'MemoryAccess/StaticTest/StaticTest.vm',\n",
    "         'StackArithmetic/SimpleAdd/SimpleAdd.vm',\n",
    "         'StackArithmetic/StackTest/StackTest.vm'\n",
    "        ]\n",
    "for file_path in files:\n",
    "    with open(file_path) as file:\n",
    "        insts = file.read().splitlines()\n",
    "    parser = Parser(file_path)\n",
    "    code = parser.parse(insts)\n",
    "    with open(file_path.split('.')[0] + '.asm', \"w\") as outfile:\n",
    "        outfile.write(code)"
   ]
  },
  {
   "cell_type": "markdown",
   "metadata": {},
   "source": [
    "# Project 7"
   ]
  },
  {
   "cell_type": "code",
   "execution_count": 83,
   "metadata": {},
   "outputs": [],
   "source": [
    "# file_path = 'MemoryAccess/PointerTest/PointerTest.vm'\n",
    "file_path = 'MemoryAccess/BasicTest/BasicTest.vm'\n",
    "files = ['MemoryAccess/BasicTest/BasicTest.vm', \n",
    "         'MemoryAccess/PointerTest/PointerTest.vm', \n",
    "         'MemoryAccess/StaticTest/StaticTest.vm',\n",
    "         'StackArithmetic/SimpleAdd/SimpleAdd.vm',\n",
    "         'StackArithmetic/StackTest/StackTest.vm'\n",
    "        ]\n",
    "for file_path in files:\n",
    "    with open(file_path) as file:\n",
    "        insts = file.read().splitlines()\n",
    "    parser = Parser(file_path)\n",
    "    code = parser.parse(insts)\n",
    "    with open(file_path.split('.')[0] + '.asm', \"w\") as outfile:\n",
    "        outfile.write(code)"
   ]
  },
  {
   "cell_type": "code",
   "execution_count": null,
   "metadata": {},
   "outputs": [],
   "source": []
  },
  {
   "cell_type": "code",
   "execution_count": null,
   "metadata": {},
   "outputs": [],
   "source": []
  },
  {
   "cell_type": "code",
   "execution_count": null,
   "metadata": {},
   "outputs": [],
   "source": []
  }
 ],
 "metadata": {
  "kernelspec": {
   "display_name": "venv3.9",
   "language": "python",
   "name": "venv3.9"
  },
  "language_info": {
   "codemirror_mode": {
    "name": "ipython",
    "version": 3
   },
   "file_extension": ".py",
   "mimetype": "text/x-python",
   "name": "python",
   "nbconvert_exporter": "python",
   "pygments_lexer": "ipython3",
   "version": "3.9.0"
  }
 },
 "nbformat": 4,
 "nbformat_minor": 4
}
