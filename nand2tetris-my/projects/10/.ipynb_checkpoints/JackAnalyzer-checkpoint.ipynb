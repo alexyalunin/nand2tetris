{
 "cells": [
  {
   "cell_type": "code",
   "execution_count": 2,
   "source": [
    "%reload_ext autoreload\n",
    "%autoreload 2\n",
    "\n",
    "import sys, os, os.path, glob\n",
    "from JackConstant import *\n",
    "\n",
    "def get_files( file_or_dir ):\n",
    "    if file_or_dir.endswith('.jack'):\n",
    "        return [file_or_dir], file_or_dir.replace('.jack', '.xml')\n",
    "    else:\n",
    "        infiles = glob.glob(file_or_dir+'/*.jack')\n",
    "        outfiles = [x.replace('.jack', '.xml') for x in infiles]\n",
    "        return infiles, outfiles\n",
    "\n",
    "get_files('ExpressionLessSquare')"
   ],
   "outputs": [
    {
     "output_type": "execute_result",
     "data": {
      "text/plain": [
       "(['ExpressionLessSquare/Square.jack',\n",
       "  'ExpressionLessSquare/SquareGame.jack',\n",
       "  'ExpressionLessSquare/Main.jack'],\n",
       " ['ExpressionLessSquare/Square.xml',\n",
       "  'ExpressionLessSquare/SquareGame.xml',\n",
       "  'ExpressionLessSquare/Main.xml'])"
      ]
     },
     "metadata": {},
     "execution_count": 2
    }
   ],
   "metadata": {}
  },
  {
   "cell_type": "code",
   "execution_count": null,
   "source": [
    "\n",
    "        \n"
   ],
   "outputs": [],
   "metadata": {}
  },
  {
   "cell_type": "code",
   "execution_count": 22,
   "source": [],
   "outputs": [],
   "metadata": {}
  },
  {
   "cell_type": "code",
   "execution_count": 11,
   "source": [
    "class JackAnalyzer(object):\n",
    "    def __init__(self):\n",
    "        pass\n",
    "\n",
    "    def analyze(self, infiles, outfiles):\n",
    "        for infile, outfile in zip(infiles, outfiles):\n",
    "            Parser.parse(infile, outfile)"
   ],
   "outputs": [],
   "metadata": {}
  },
  {
   "cell_type": "code",
   "execution_count": 3,
   "source": [
    "infiles, outfiles = get_files('ExpressionLessSquare')\n",
    "# analyzer = JackAnalyzer()\n",
    "# analyzer.analyze(infiles, outfiles)"
   ],
   "outputs": [],
   "metadata": {}
  },
  {
   "cell_type": "code",
   "execution_count": 4,
   "source": [
    "with open(infiles[0]) as file:\n",
    "    lines = file.readlines()"
   ],
   "outputs": [],
   "metadata": {}
  },
  {
   "cell_type": "code",
   "execution_count": 23,
   "source": [
    "parser = Parser()\n",
    "# lines = parser.delete_comments(lines)\n",
    "# code = parser.join_lines(lines)\n",
    "# code = parser.clean_symbols(code)\n",
    "code = 'while ( count < 100 ) { let count = count + 1 ; }'\n",
    "xml = parser.parse(code)\n",
    "xml"
   ],
   "outputs": [
    {
     "output_type": "execute_result",
     "data": {
      "text/plain": [
       "'class Square { field int x, y; field int size; constructor Square new(int Ax, int Ay, int Asize) { let x = Ax; let y = Ay; let size = Asize; do draw(); return x; } method void dispose() { do Memory.deAlloc(this); return; } method void draw() { do Screen.setColor(x); do Screen.drawRectangle(x, y, x, y); return; } method void erase() { do Screen.setColor(x); do Screen.drawRectangle(x, y, x, y); return; } method void incSize() { if (x) { do erase(); let size = size; do draw(); } return; } method void decSize() { if (size) { do erase(); let size = size; do draw(); } return; } method void moveUp() { if (y) { do Screen.setColor(x); do Screen.drawRectangle(x, y, x, y); let y = y; do Screen.setColor(x); do Screen.drawRectangle(x, y, x, y); } return; } method void moveDown() { if (y) { do Screen.setColor(x); do Screen.drawRectangle(x, y, x, y); let y = y; do Screen.setColor(x); do Screen.drawRectangle(x, y, x, y); } return; } method void moveLeft() { if (x) { do Screen.setColor(x); do Screen.drawRectangle(x, y, x, y); let x = x; do Screen.setColor(x); do Screen.drawRectangle(x, y, x, y); } return; } method void moveRight() { if (x) { do Screen.setColor(x); do Screen.drawRectangle(x, y, x, y); let x = x; do Screen.setColor(x); do Screen.drawRectangle(x, y, x, y); } return; } }'"
      ]
     },
     "metadata": {},
     "execution_count": 23
    }
   ],
   "metadata": {}
  },
  {
   "cell_type": "code",
   "execution_count": 27,
   "source": [
    "code = 'while ( count   < 100 ) { let count = count + 1 ; }'\n",
    "code_tokens = [x for x in code.split(' ') if x]\n",
    "code_tokens\n"
   ],
   "outputs": [
    {
     "output_type": "execute_result",
     "data": {
      "text/plain": [
       "['while',\n",
       " '(',\n",
       " 'count',\n",
       " '<',\n",
       " '100',\n",
       " ')',\n",
       " '{',\n",
       " 'let',\n",
       " 'count',\n",
       " '=',\n",
       " 'count',\n",
       " '+',\n",
       " '1',\n",
       " ';',\n",
       " '}']"
      ]
     },
     "metadata": {},
     "execution_count": 27
    }
   ],
   "metadata": {}
  },
  {
   "cell_type": "code",
   "execution_count": null,
   "source": [
    "class Parser:\n",
    "    def __init__(self, lines):\n",
    "        lines = self.delete_comments(lines)\n",
    "        code = self.join_lines(lines)\n",
    "        code = self.clean_symbols(code)\n",
    "        self.code_tokens = [x for x in code.split(' ') if x]\n",
    "        self.res_xml = []\n",
    "        self.compile()\n",
    "        # self.code_tokens = self.code_tokens[::-1]\n",
    "\n",
    "        # code = 'while ( count < 100 ) { let count = count + 1 ; }'\n",
    "        # xml = parser.parse(code)\n",
    "\n",
    "\n",
    "\n",
    "    def add(self, string):\n",
    "        self.res_xml.append(string)\n",
    "\n",
    "    def compile(self):\n",
    "        if self.code_tokens[0] == 'while':\n",
    "            self.compileWhileStatement()\n",
    "\n",
    "    def compileWhile(self):\n",
    "        self.add('<whileStatement>')\n",
    "        self.compileKeyword('while')\n",
    "        self.compileSymbol('(')\n",
    "        self.compileExpression()\n",
    "        self.compileSymbol(')')\n",
    "        self.compileSymbol('{')\n",
    "        self.compileStatements()\n",
    "        self.compileSymbol('}')\n",
    "        self.add('</whileStatement>')\n",
    "\n",
    "    def compileKeyword(self, word):\n",
    "        assert word in KEYWORDS\n",
    "        assert self.peek() == word\n",
    "        self.add(f'<keyword> {word} </keyword>')\n",
    "\n",
    "    def compileSymbol(self, symbol):\n",
    "        assert symbol in SYMBOLS\n",
    "        assert self.peek() == symbol\n",
    "        self.add(f'<symbol> {symbol} </symbol>')\n",
    "\n",
    "    def compileExpression(self):\n",
    "        self.add('<expression>')\n",
    "        self.compileTerm()\n",
    "        # self.compileOp()\n",
    "        # self.compileTerm()\n",
    "        self.add('</expression>')\n",
    "\n",
    "    def compileTerm(self):\n",
    "        self.add('<term>')\n",
    "        self.identifyTerm()\n",
    "        self.add('</term>')\n",
    "\n",
    "    # term: integerConstant | stringConstant | keywordConstant | varName\n",
    "        #     | varName '[' expression ']' | subroutineCall | '(' expression ')'\n",
    "        #     | unaryOp term\n",
    "    def identifyTerm(self):\n",
    "        \"\"\"\n",
    "            + integerConstant: (123)\n",
    "            + stringConstant: ('dcsdcsc')\n",
    "            + keywordConstant: (true) (false) (null) (this)\n",
    "            + varName: isVarname\n",
    "            + varName '[' expression ']': varName[0] (varName[getIndex()])\n",
    "            subroutineCall: isTrue()\n",
    "            + '(' expression ')': ((True))\n",
    "            + unaryOp: -term, ~term\n",
    "        \"\"\"\n",
    "        term = self.top()\n",
    "        if term.isdigit():\n",
    "            term = self.peek()\n",
    "            self.add(f'<integerConstant> {term} </integerConstant>')\n",
    "        elif term == '\"':\n",
    "            string = self.peek()\n",
    "            word = self.peek()\n",
    "            string += ' ' + word\n",
    "            while word != '\"':\n",
    "                word = self.peek()\n",
    "                string += ' ' + word\n",
    "            self.add(f'<stringConstant> {term} </stringConstant>')\n",
    "        elif term in {'true', 'false', 'null', 'this'}:\n",
    "            term = self.peek()\n",
    "            self.add(f'<keywordConstant> {term} </keywordConstant>')\n",
    "        elif term == '(':\n",
    "            self.compileSymbol('(')\n",
    "            self.compileExpression()\n",
    "            self.compileSymbol(')')\n",
    "        elif term == '-' or term == '~':\n",
    "            self.compileSymbol(term)\n",
    "            self.compileTerm()\n",
    "        elif term in KEYWORDS:\n",
    "            raise\n",
    "        else: \n",
    "            term = self.peek()\n",
    "            self.add(f'<identifier> {term} </identifier>')\n",
    "            if self.top() == '[':\n",
    "                self.compileSymbol('[')\n",
    "                self.compileExpression()\n",
    "                self.compileSymbol(']')\n",
    "            elif '(.'\n",
    "                compile_subroutine_call\n",
    "\n",
    "\n",
    "    def compileIf(self):\n",
    "        self.add('<ifStatement>')\n",
    "        self.compileKeyword('if')\n",
    "        self.compileSymbol('(')\n",
    "        self.compileExpression()\n",
    "        self.compileSymbol(')')\n",
    "        self.compileSymbol('{')\n",
    "        self.compileStatements()\n",
    "        self.compileSymbol('}')\n",
    "        if self.top() == 'else':\n",
    "            self.compileKeyword('else')\n",
    "            self.compileSymbol('{')\n",
    "            self.compileStatements()\n",
    "            self.compileSymbol('}')\n",
    "        self.add('</ifStatement>')\n",
    "        \n",
    "\n",
    "    def compileDo(self):\n",
    "        self.compileKeyword('do')\n",
    "        self.compileSubroutineCall()\n",
    "        self.compileSymbol(';')\n",
    "\n",
    "    def compileReturn(self):\n",
    "        self.compileKeyword('return')\n",
    "        if self.top() != ';':\n",
    "            self.compileExpression()\n",
    "        self.compileSymbol(';')\n",
    "\n",
    "    def compileLet(self):\n",
    "        self.compileKeyword('let')\n",
    "        self.compileVarNameExp()\n",
    "        self.compileSymbol('=')\n",
    "        self.compileExpression()\n",
    "        self.compileSymbol(';')\n",
    "\n",
    "\n",
    "    def compileVarNameExp(self):\n",
    "        assert not (self.top() in KEYWORDS or self.top() in SYMBOLS)\n",
    "        \n",
    "\n",
    "\n",
    "        \n",
    "            \n",
    "\n",
    "    \n",
    "        \n",
    "    "
   ],
   "outputs": [],
   "metadata": {}
  },
  {
   "cell_type": "code",
   "execution_count": null,
   "source": [],
   "outputs": [],
   "metadata": {}
  }
 ],
 "metadata": {
  "orig_nbformat": 4,
  "language_info": {
   "name": "python",
   "version": "3.9.0",
   "mimetype": "text/x-python",
   "codemirror_mode": {
    "name": "ipython",
    "version": 3
   },
   "pygments_lexer": "ipython3",
   "nbconvert_exporter": "python",
   "file_extension": ".py"
  },
  "kernelspec": {
   "name": "python3",
   "language": "python",
   "display_name": "Python 3"
  },
  "interpreter": {
   "hash": "4c77edaaa4b590d10a11dacba480f74d76fb152edd9b444121354ab6596c4982"
  },
  "pycharm": {
   "stem_cell": {
    "cell_type": "raw",
    "source": [],
    "metadata": {
     "collapsed": false
    }
   }
  }
 },
 "nbformat": 4,
 "nbformat_minor": 2
}